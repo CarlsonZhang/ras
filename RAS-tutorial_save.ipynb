{
 "cells": [
  {
   "cell_type": "markdown",
   "metadata": {},
   "source": [
    "# Learning a cosine with keras"
   ]
  },
  {
   "cell_type": "code",
   "execution_count": 1,
   "metadata": {
    "collapsed": true
   },
   "outputs": [],
   "source": [
    "import os\n",
    "os.environ['THEANO_FLAGS']='mode=FAST_COMPILE,optimizer=None,device=cpu,floatX=float32'"
   ]
  },
  {
   "cell_type": "code",
   "execution_count": 2,
   "metadata": {
    "collapsed": false
   },
   "outputs": [
    {
     "name": "stdout",
     "output_type": "stream",
     "text": [
      "(7500,)\n",
      "(2500,)\n"
     ]
    }
   ],
   "source": [
    "import numpy as np\n",
    "import sklearn.cross_validation as skcv\n",
    "#x = np.linspace(0, 5*np.pi, num=10000, dtype=np.float32)\n",
    "x = np.linspace(0, 4*np.pi, num=10000, dtype=np.float32)\n",
    "y = np.cos(x)\n",
    "\n",
    "train, test = skcv.train_test_split(np.arange(x.shape[0]))\n",
    "print train.shape\n",
    "print test.shape"
   ]
  },
  {
   "cell_type": "code",
   "execution_count": 3,
   "metadata": {
    "collapsed": false
   },
   "outputs": [
    {
     "data": {
      "text/plain": [
       "[<matplotlib.lines.Line2D at 0x7fb588176b90>]"
      ]
     },
     "execution_count": 3,
     "metadata": {},
     "output_type": "execute_result"
    },
    {
     "data": {
      "image/png": "iVBORw0KGgoAAAANSUhEUgAAAX0AAAEACAYAAABfxaZOAAAABHNCSVQICAgIfAhkiAAAAAlwSFlz\nAAALEgAACxIB0t1+/AAAIABJREFUeJzt3XmUVdWZ9/Hvw1BMokhQEAEVBYWICjIJAuUAojGgREPs\npB3ajmbQ9NuZjCbdEldW2iSddOw2iTEmBqNRIw5xwAgIJTLPMygGQRABQQFBsKRqv388t2JR1HTv\nOffsMzyftVhWFbfu+Vmc89Q+++xBnHMYY4zJhia+AxhjjImOFX1jjMkQK/rGGJMhVvSNMSZDrOgb\nY0yGWNE3xpgMCVz0ReQPIrJdRFbW85r/FZH1IrJcRPoGPaYxxpjChNHSfxAYXddfishlwGnOuR7A\nTcBvQjimMcaYAgQu+s65V4H363nJGGBi7rXzgXYi0jHocY0xxuQvij79E4HN1T7fAnSJ4LjGGGNq\niOpBrtT43NZ+MMYYD5pFcIy3ga7VPu+S+9phRMR+ERhjTAGcczUb1nWKoqX/LHAtgIgMBnY757bX\n9kLnHHv2OMaPdwwY4HjvPYdzyfhz5513es+QxexV+WfPdhx3nOP//s9RWXnkayoqHD/9qaNTJ8eS\nJf4zp+3n7ztDsfJv3+7o08dxww2O/fv9Z63tT77CGLL5KDAHOF1ENovIv4jIzSJyc66QTwY2iMgb\nwG+Br9X3fkcfDY8+CkOHwsiRsH9/0IQm7bZuhSuugD/9CW65BaSWNk+TJvCd78C998Lo0bB6dfQ5\nTbK8/z5cdJGeW7//PbRu7TtROAJ37zjnrmnEa27J5z1F4Be/gBtu0D+PP177hWzMjh3w2GMwcSJc\ncknDr//c57QhMXYsLFgA7dsXP6NJnspK+OIX4YIL4Ic/TFf9ie2MXBG47z7YuBF+9SvfaRpWWlrq\nO0LBkpq9shL+6Z9g7NhSrryy8d937bXw2c/Cv/4rFHB3HLqk/vyrpDH/j3+sjYOf/zxdBR9ACukT\nKgYRcbVlef117eqZOxdOO81DMBNbv/0t/PGPMGsWNG2a3/d+9BGcey7cfr
